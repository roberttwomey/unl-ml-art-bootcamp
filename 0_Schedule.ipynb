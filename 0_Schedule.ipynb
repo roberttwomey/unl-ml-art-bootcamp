{
 "cells": [
  {
   "cell_type": "markdown",
   "metadata": {},
   "source": [
    "# 1. Lecture\n",
    "\n",
    "'Generative Machines'\n",
    "\n",
    "link to powerpoint: "
   ]
  },
  {
   "cell_type": "markdown",
   "metadata": {},
   "source": [
    "# 2. Style Transfer Activity\n",
    "\n",
    "Talk about Style and Content in images. \n",
    "\n",
    "Play with Arbitrary Image Stylization https://reiinakano.github.io/arbitrary-image-stylization-tfjs/\n",
    "\n",
    "Achieve one of:\n",
    "1. Content and Style that are Incongruous \n",
    "2. Content and Style that Amplify Each Other \n",
    "3. Style that adds an emotional charge to the content\n",
    "\n",
    "Blog post: https://magenta.tensorflow.org/blog/2018/12/20/style-transfer-js/\n"
   ]
  },
  {
   "cell_type": "markdown",
   "metadata": {},
   "source": [
    "## Style Transfer Discussion"
   ]
  },
  {
   "cell_type": "markdown",
   "metadata": {},
   "source": [
    "# 3. Class Software\n",
    "\n",
    "Copy the workshop repository to your local directory on datahub.\n",
    "\n",
    "**Via Terminal**\n",
    "\n",
    "On your jupyter Notebook Broswer, open a terminal (**New->Terminal**) and run the following command at your prompt: \n",
    "\n",
    "```git clone https://github.com/roberttwomey/ml-art-bootcamp```\n",
    "\n",
    "**Via Jupyter**\n",
    "\n",
    "Or uncomment the following line and execute it through the jupyter \"Run\" button:"
   ]
  },
  {
   "cell_type": "code",
   "execution_count": 1,
   "metadata": {},
   "outputs": [],
   "source": [
    "#!git clone https://github.com/roberttwomey/ml-art-bootcamp"
   ]
  },
  {
   "cell_type": "markdown",
   "metadata": {},
   "source": [
    "Congrats, you are all set up!"
   ]
  },
  {
   "cell_type": "markdown",
   "metadata": {},
   "source": [
    "## Welcome to Jupyter\n",
    "\n",
    "Introduction to Jupyter. (See [what is jupyter](https://jupyter-notebook-beginner-guide.readthedocs.io/en/latest/what_is_jupyter.html))\n",
    "\n",
    "Introduction to Terminal.\n",
    "\n",
    "Preview of Tensorboard.\n",
    "\n",
    "Restart Kernel.\n",
    "\n",
    "(Recent article from UCSD on reproducible science with Jupyter https://arxiv.org/abs/1810.08055)"
   ]
  },
  {
   "cell_type": "markdown",
   "metadata": {},
   "source": [
    "## Notebook 1: Style Transfer in Python\n",
    "\n",
    "Step through this notebook, implementing a type of style transfer.\n",
    "\n",
    "[1_Neural_Style_Transfer.ipynb](1_Neural_Style_Transfer.ipynb)\n",
    "\n",
    "Use content and style images from your own choosing."
   ]
  },
  {
   "cell_type": "markdown",
   "metadata": {},
   "source": [
    "# Lunch Break"
   ]
  },
  {
   "cell_type": "markdown",
   "metadata": {},
   "source": [
    "# 4. Generative vs. Perceptive ML"
   ]
  },
  {
   "cell_type": "markdown",
   "metadata": {},
   "source": [
    "## Notebook 2: MNIST Fashion - Basic Classification\n",
    "\n",
    "Step through this notebook, implementing a basic fashion classifier:\n",
    "\n",
    "[2_MNIST_Fashion_Classification.ipynb](2_MNIST_Fashion_Classification.ipynb)\n",
    "\n",
    "Acquire and classify your own fashion image (28 x 28 pixels, grayscale)"
   ]
  },
  {
   "cell_type": "markdown",
   "metadata": {},
   "source": [
    "## Notebook 3: Text Generation with LSTMs\n",
    "\n",
    "Step through this notebook, implementing a basic text generation example: \n",
    "\n",
    "[3_Text_Generation_RNN.ipynb](3_Text_Generation_RNN.ipynb)\n",
    "\n",
    "\n",
    "Train on your own text. \n",
    "\n",
    "Experiment with number of training Epochs to improve performance."
   ]
  },
  {
   "cell_type": "markdown",
   "metadata": {},
   "source": [
    "## Notebook 4: GAN Latent Space Exploration\n",
    "\n",
    "Exploring the latent space of BigGAN. Run through this example:\n",
    "\n",
    "https://colab.research.google.com/github/tensorflow/hub/blob/master/examples/colab/biggan_generation_with_tf_hub.ipynb\n",
    "\n",
    "Interpolate between categories of your choosing, with weights of your choice."
   ]
  },
  {
   "cell_type": "markdown",
   "metadata": {},
   "source": [
    "## Discussion of GAN Latent Space interpolations\n",
    "\n",
    "Pick the best of your group to share with me. We'll go through them as a class."
   ]
  },
  {
   "cell_type": "markdown",
   "metadata": {},
   "source": [
    "# 5. Closing Discussion\n",
    "\n",
    "Overview of the course syllabus: http://ml.roberttwomey.com\n",
    "\n",
    "Questions? \n",
    "\n",
    "Let me know if you want to be added to the class (sign the sheet, or e-mail me by the end of the week)\n",
    "\n"
   ]
  },
  {
   "cell_type": "code",
   "execution_count": null,
   "metadata": {},
   "outputs": [],
   "source": []
  }
 ],
 "metadata": {
  "kernelspec": {
   "display_name": "Python 3",
   "language": "python",
   "name": "python3"
  },
  "language_info": {
   "codemirror_mode": {
    "name": "ipython",
    "version": 3
   },
   "file_extension": ".py",
   "mimetype": "text/x-python",
   "name": "python",
   "nbconvert_exporter": "python",
   "pygments_lexer": "ipython3",
   "version": "3.6.8"
  }
 },
 "nbformat": 4,
 "nbformat_minor": 2
}
